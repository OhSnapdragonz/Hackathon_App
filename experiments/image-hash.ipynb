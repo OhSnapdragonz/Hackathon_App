{
 "cells": [
  {
   "cell_type": "code",
   "execution_count": 3,
   "id": "60d3abb1-a9c9-4784-9038-ee87cd969a2b",
   "metadata": {},
   "outputs": [],
   "source": [
    "!pip install -q imagehash"
   ]
  },
  {
   "cell_type": "code",
   "execution_count": 5,
   "id": "fd5cb6a8-1423-4c60-a3ce-fd5bb3780953",
   "metadata": {},
   "outputs": [],
   "source": [
    "from PIL import Image\n",
    "import imagehash"
   ]
  },
  {
   "cell_type": "code",
   "execution_count": 12,
   "id": "1a9243db-7ffa-4cd1-8cc4-2c0f55d8854f",
   "metadata": {},
   "outputs": [
    {
     "name": "stdout",
     "output_type": "stream",
     "text": [
      "08247efb7a7c3810\n"
     ]
    }
   ],
   "source": [
    "hash_larvesta_0 = imagehash.average_hash(Image.open('cropped/cropped_cutout_0.png'))\n",
    "print(hash)"
   ]
  },
  {
   "cell_type": "code",
   "execution_count": 13,
   "id": "83a22d37-eecd-4801-bbf2-3985053b1e0d",
   "metadata": {},
   "outputs": [
    {
     "name": "stdout",
     "output_type": "stream",
     "text": [
      "7010029e7e7f7f70\n"
     ]
    }
   ],
   "source": [
    "hash_larvesta_1 = imagehash.average_hash(Image.open('cropped/cropped_cutout_5.png'))\n",
    "print(otherhash)"
   ]
  },
  {
   "cell_type": "code",
   "execution_count": 10,
   "id": "60c231b3-45e1-4233-a90a-56a2ec1d9aeb",
   "metadata": {},
   "outputs": [
    {
     "name": "stdout",
     "output_type": "stream",
     "text": [
      "False\n"
     ]
    }
   ],
   "source": [
    "print(hash_larvesta_0 == hash_larvesta_1)"
   ]
  },
  {
   "cell_type": "code",
   "execution_count": 14,
   "id": "74f9d2ed-2450-43b9-a80e-664c1750ea17",
   "metadata": {},
   "outputs": [
    {
     "name": "stdout",
     "output_type": "stream",
     "text": [
      "25\n"
     ]
    }
   ],
   "source": [
    "print(hash_larvesta_0 - hash_larvesta_1)  # hamming distance"
   ]
  },
  {
   "cell_type": "code",
   "execution_count": 15,
   "id": "a287c31a-c766-4c07-8450-89dd8584b4f2",
   "metadata": {},
   "outputs": [],
   "source": [
    "hash_volcarona_0 = imagehash.average_hash(Image.open('cropped/cropped_cutout_1.png'))\n"
   ]
  },
  {
   "cell_type": "code",
   "execution_count": 16,
   "id": "ade54eef-280d-47b0-9ce4-710a6a953640",
   "metadata": {},
   "outputs": [
    {
     "name": "stdout",
     "output_type": "stream",
     "text": [
      "23\n"
     ]
    }
   ],
   "source": [
    "print(hash_larvesta_0 - hash_volcarona_0)  # hamming distance"
   ]
  },
  {
   "cell_type": "code",
   "execution_count": null,
   "id": "7ab6a265-7c78-4c9b-a39e-3f0fe1f445ca",
   "metadata": {},
   "outputs": [],
   "source": []
  }
 ],
 "metadata": {
  "kernelspec": {
   "display_name": "Python 3 (ipykernel)",
   "language": "python",
   "name": "python3"
  },
  "language_info": {
   "codemirror_mode": {
    "name": "ipython",
    "version": 3
   },
   "file_extension": ".py",
   "mimetype": "text/x-python",
   "name": "python",
   "nbconvert_exporter": "python",
   "pygments_lexer": "ipython3",
   "version": "3.11.11"
  }
 },
 "nbformat": 4,
 "nbformat_minor": 5
}
