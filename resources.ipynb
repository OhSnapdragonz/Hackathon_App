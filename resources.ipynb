{
 "cells": [
  {
   "cell_type": "markdown",
   "metadata": {},
   "source": [
    "# How to get card info\n",
    "\n",
    "Need to install the sdk: pip install pokemontcgsdk\n",
    "\n",
    "To find the id for a card, look in https://pokemontcg.guru/"
   ]
  },
  {
   "cell_type": "code",
   "execution_count": null,
   "metadata": {},
   "outputs": [],
   "source": [
    "# setup\n",
    "from pokemontcgsdk import Card\n",
    "from pokemontcgsdk import RestClient\n",
    "RestClient.configure('c0a13e31-4371-413c-8f1f-264697acc48e')  # my API key"
   ]
  },
  {
   "cell_type": "code",
   "execution_count": null,
   "metadata": {},
   "outputs": [],
   "source": [
    "# get one card\n",
    "card = Card.find('xy1-146')\n",
    "print(card.name)\n",
    "print(card.tcgplayer)   # currency in USD\n",
    "print(card.cardmarket)  # currency in euros"
   ]
  },
  {
   "cell_type": "markdown",
   "metadata": {},
   "source": [
    "# YOLOv11 for Instance Segmentation\n",
    "I trained a model to detect pokemon cards, but it only detects cards in general. We still have to identify which card it is.\n",
    "\n",
    "Need to install ultralytics: pip install ultralytics"
   ]
  },
  {
   "cell_type": "code",
   "execution_count": null,
   "metadata": {},
   "outputs": [],
   "source": [
    "from ultralytics import YOLO\n",
    "\n",
    "# Load a COCO-pretrained YOLO11n model\n",
    "model = YOLO('yolo11n_best.pt')  # build from weights"
   ]
  },
  {
   "cell_type": "code",
   "execution_count": null,
   "metadata": {},
   "outputs": [],
   "source": [
    "results = model(\"test2.jpg\")  # predict on an image\n",
    "\n",
    "# Process results list\n",
    "for result in results:\n",
    "    boxes = result.boxes  # Boxes object for bounding box outputs\n",
    "    masks = result.masks  # Masks object for segmentation masks outputs\n",
    "    keypoints = result.keypoints  # Keypoints object for pose outputs\n",
    "    probs = result.probs  # Probs object for classification outputs\n",
    "    obb = result.obb  # Oriented boxes object for OBB outputs\n",
    "    result.show()  # display to screen"
   ]
  }
 ],
 "metadata": {
  "language_info": {
   "name": "python"
  }
 },
 "nbformat": 4,
 "nbformat_minor": 2
}
